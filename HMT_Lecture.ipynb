{
 "cells": [
  {
   "cell_type": "markdown",
   "metadata": {},
   "source": [
    "This notebook is designed for the lecture on heat and mass transport phenomena (29.10.2020)\n",
    "\n",
    "As you will see, this notebook consists of three parts:\n"
   ]
  },
  {
   "cell_type": "code",
   "execution_count": 46,
   "metadata": {},
   "outputs": [],
   "source": [
    "# Get Measured Data\n",
    "# In this cell, the data points from the experiment are stored\n",
    "# Please don't change anything and run this cell once\n",
    "realT = np.linspace(T_l,T_r,N)\n"
   ]
  },
  {
   "cell_type": "code",
   "execution_count": 42,
   "metadata": {},
   "outputs": [],
   "source": [
    "# Parameter definition\n",
    "\n",
    "# Define a value for Alpha here :\n",
    "###################################################################################################################\n",
    "\n",
    "alpha = 2 # [W/m²K]\n",
    "\n",
    "###################################################################################################################\n"
   ]
  },
  {
   "cell_type": "code",
   "execution_count": 43,
   "metadata": {},
   "outputs": [],
   "source": [
    "# this cell is used to define the partial differential equation\n",
    "# you don't need to change anything here, just run it once\n",
    "\n",
    "import numpy as np\n",
    "import pandas as pd\n",
    "\n",
    "### Stick-Dimension ###\n",
    "N = 100 # Resolution\n",
    "w = 0.5 #[m] Width\n",
    "dx = w/(N-1) # finite length\n",
    "\n",
    "### Initilization ###\n",
    "T = np.ones(N);\n",
    "\n",
    "### boundary condition ###\n",
    "T_l =  350 # left temperature\n",
    "T_r =  200# right temperature\n",
    "T[0] = T_l\n",
    "T[N-1] = T_r\n",
    "\n",
    "### Finite Differences Method ### \n",
    "A = np.zeros([N-2,N-2]) # left side of equation    \n",
    "z = alpha/(dx**2) # help variable\n",
    "A[0,0] = -2/z\n",
    "A[0,1] = z\n",
    "\n",
    "A[N-3,N-4] = z\n",
    "A[N-3,N-3] = -2*z\n",
    "\n",
    "for k in range(1,N-3):        \n",
    "    A[k,k-1] = z\n",
    "    A[k,k] = -2*z\n",
    "    A[k,k+1] = z\n",
    "      \n",
    "b = np.zeros(N-2) # right side\n",
    "b[0] = -T_l*z \n",
    "b[N-3] = T_r*z \n",
    "\n",
    "Tinner = np.linalg.solve(A,-b) #solution     \n",
    "\n",
    "T[1:N-1] = Tinner\n"
   ]
  },
  {
   "cell_type": "code",
   "execution_count": 47,
   "metadata": {},
   "outputs": [
    {
     "data": {
      "text/plain": [
       "[<matplotlib.lines.Line2D at 0x7f0b13ee9640>]"
      ]
     },
     "execution_count": 47,
     "metadata": {},
     "output_type": "execute_result"
    },
    {
     "data": {
      "image/png": "[encoded data removed]",
      "text/plain": [
       "<Figure size 432x288 with 1 Axes>"
      ]
     },
     "metadata": {
      "needs_background": "light"
     },
     "output_type": "display_data"
    }
   ],
   "source": [
    "import matplotlib.pyplot as plt\n",
    "\n",
    "plt.plot(T)\n",
    "plt.plot(realT)"
   ]
  },
  {
   "cell_type": "code",
   "execution_count": 54,
   "metadata": {},
   "outputs": [
    {
     "data": {
      "text/plain": [
       "3.1088869549758824"
      ]
     },
     "execution_count": 54,
     "metadata": {},
     "output_type": "execute_result"
    }
   ],
   "source": [
    "# Result\n",
    "# You will get your result when executing this cell. The result is the mean squared error, so the squarred error between the model's \n",
    "# predicted values and the measured values\n",
    "\n",
    "#please fill out the google form with your alpha value and the obtained result \n",
    "\n",
    "# MSE:\n",
    "mse = (np.square(T - realT)).mean(axis=0)\n",
    "mse"
   ]
  }
 ],
 "metadata": {
  "kernelspec": {
   "display_name": "Python 3",
   "language": "python",
   "name": "python3"
  },
  "language_info": {
   "codemirror_mode": {
    "name": "ipython",
    "version": 3
   },
   "file_extension": ".py",
   "mimetype": "text/x-python",
   "name": "python",
   "nbconvert_exporter": "python",
   "pygments_lexer": "ipython3",
   "version": "3.8.3"
  }
 },
 "nbformat": 4,
 "nbformat_minor": 4
}
