{
 "cells": [
  {
   "cell_type": "markdown",
   "metadata": {},
   "source": [
    "This notebook is designed for the lecture on heat and mass transport phenomena (29.10.2020)\n",
    "\n",
    "As you will see, this notebook consists of three parts:\n"
   ]
  },
  {
   "cell_type": "code",
   "execution_count": null,
   "metadata": {},
   "outputs": [],
   "source": [
    "# Get Measured Data\n",
    "# In this cell, the data points from the experiment are stored\n",
    "# Please don't change anything and run this cell once"
   ]
  },
  {
   "cell_type": "code",
   "execution_count": 2,
   "metadata": {},
   "outputs": [],
   "source": [
    "# this cell is used to define the partial differential equation\n",
    "# you don't need to change anything here, just run it once\n",
    "\n"
   ]
  },
  {
   "cell_type": "code",
   "execution_count": 1,
   "metadata": {},
   "outputs": [],
   "source": [
    "# Parameter definition\n",
    "\n",
    "# Define a value for Alpha here :\n",
    "###################################################################################################################\n",
    "\n",
    "alpha = 0.1 # [W/m²K]\n",
    "\n",
    "###################################################################################################################\n"
   ]
  },
  {
   "cell_type": "code",
   "execution_count": null,
   "metadata": {},
   "outputs": [],
   "source": [
    "# Result\n",
    "# You will get your result when executing this cell. The result is the mean squared error, so the squarred error between the model's \n",
    "# predicted values and the measured values\n",
    "\n",
    "#please fill out the google form with your alpha value and the obtained result \n",
    "\n",
    "# MSE:\n"
   ]
  }
 ],
 "metadata": {
  "kernelspec": {
   "display_name": "Python 3",
   "language": "python",
   "name": "python3"
  },
  "language_info": {
   "codemirror_mode": {
    "name": "ipython",
    "version": 3
   },
   "file_extension": ".py",
   "mimetype": "text/x-python",
   "name": "python",
   "nbconvert_exporter": "python",
   "pygments_lexer": "ipython3",
   "version": "3.8.3"
  }
 },
 "nbformat": 4,
 "nbformat_minor": 4
}
