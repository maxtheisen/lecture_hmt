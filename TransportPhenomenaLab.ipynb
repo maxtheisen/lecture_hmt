{
 "cells": [
  {
   "cell_type": "markdown",
   "metadata": {},
   "source": [
    "## This notebook is designed for the lecture on transport phenomena (29.10.2020)\n",
    "\n",
    "__As you will see, this notebook consists of four parts:__\n",
    "- Real data for comparison\n",
    "- A finite-differences implementation to solve the PDE\n",
    "- A cell to define the parameter alpha\n",
    "- A comparison between real values and calculated ones\n",
    "\n",
    "__First, choose an alpha for section 2. Then, run all cells 1 to 4 to get a result. If you want to change the parameter alpha afterwards, rerun cell 2-4 after changing alpha__\n",
    "\n",
    "You can run the cells either by clicking on the cell and then on Run or press ctrl+enter\n"
   ]
  },
  {
   "cell_type": "markdown",
   "metadata": {},
   "source": [
    "## 0. Install packages"
   ]
  },
  {
   "cell_type": "code",
   "execution_count": null,
   "metadata": {},
   "outputs": [],
   "source": [
    "!pip install numpy\n",
    "!pip install matplotlib"
   ]
  },
  {
   "cell_type": "markdown",
   "metadata": {},
   "source": [
    "## 1. Real Data"
   ]
  },
  {
   "cell_type": "code",
   "execution_count": null,
   "metadata": {},
   "outputs": [],
   "source": [
    "# Get Measured Data\n",
    "# In this cell, the data points from the experiment are stored\n",
    "# Please don't change anything and run this cell once\n",
    "import numpy as np"
   ]
  },
  {
   "cell_type": "markdown",
   "metadata": {},
   "source": [
    "## 2. Paramter "
   ]
  },
  {
   "cell_type": "code",
   "execution_count": null,
   "metadata": {},
   "outputs": [],
   "source": [
    "# Parameter definition\n",
    "\n",
    "# Define a value for alpha here :\n",
    "\n",
    "###################################################################################################################\n",
    "\n",
    "alpha = 10*10**-6  # [m²/s]\n",
    "\n",
    "###################################################################################################################\n"
   ]
  },
  {
   "cell_type": "markdown",
   "metadata": {},
   "source": [
    "## 3. Finite Differences Implementation "
   ]
  },
  {
   "cell_type": "code",
   "execution_count": null,
   "metadata": {},
   "outputs": [],
   "source": [
    "import numpy as np\n",
    "import matplotlib.pyplot as plt\n",
    "import matplotlib.animation as animation\n",
    "from IPython.display import HTML\n",
    "plt.ion()\n",
    "# Outer Parameter\n",
    "w = 10.       #[mm]\n",
    "h = 5.0       #[mm]\n",
    "dx = 0.1      #[mm]\n",
    "dy = 0.1      #[mm]\n",
    "Tcool = 300   #[K]\n",
    "T_hot = 700   #[K]\n",
    "\n",
    "#number of nodes\n",
    "nx = int(w/dx) \n",
    "ny = int(h/dy)\n",
    "\n",
    "dx2, dy2 = dx*dx, dy*dy  #[mm²]\n",
    "dt = dx2 * dy2 / (2 * alpha * (dx2 + dy2)) #[s]\n",
    "\n",
    "# initial conditions\n",
    "u0 = Tcool * np.ones((nx, ny)) #initialize field of nx*ny, all cool\n",
    "u0[:,0:1] = T_hot \n",
    "u = u0.copy()\n",
    "\n",
    "def do_timestep(u):\n",
    "    # forward-difference in time, central-difference in space\n",
    "    #u[1:-1, 1:-1] = u[1:-1, 1:-1] + alpha * dt * (\n",
    "    #      (u[2:, 1:-1] - 2*u[1:-1, 1:-1] + u[:-2, 1:-1])/dx2\n",
    "    #      + (u[1:-1, 2:] - 2*u[1:-1, 1:-1] + u[1:-1, :-2])/dy2 )\n",
    "    u[1:-1, 1:-1] = u[1:-1, 1:-1] + alpha * dt * (\n",
    "          (u[2:, 1:-1] - 2*u[1:-1, 1:-1] + u[:-2, 1:-1])/dx2\n",
    "          + (u[1:-1, 2:] - 2*u[1:-1, 1:-1] + u[1:-1, :-2])/dy2 )\n",
    "    u[0,:] = u[1,:]\n",
    "    u[-1,:] = u[-2,:]\n",
    "    u[:,0] = u[:,1]\n",
    "    u[:,-1] = u[:,-2]\n",
    "    u[:,0:5] = T_hot \n",
    "    return u\n",
    "\n",
    "# Number of timesteps\n",
    "nsteps = 101\n",
    "u_tot = np.ones([nx,ny,nsteps+1])\n",
    "u_tot[:,:,0] = u\n",
    "for i in range(nsteps):\n",
    "    u_tot[:,:,i+1]=do_timestep(u)\n",
    "    u = u_tot[:,:,i+1]\n",
    "\n",
    "def init():\n",
    "    global fig, ax, im\n",
    "    fig = plt.figure(1)\n",
    "    im = plt.imshow(u_tot[:,:,0],cmap=plt.get_cmap('hot'), vmin=Tcool,vmax=T_hot)\n",
    "    cbar_ax = fig.add_axes([0.9, 0.15, 0.03, 0.7])\n",
    "    cbar_ax.set_xlabel('$T$ / K', labelpad=20)\n",
    "    fig.colorbar(im, cax=cbar_ax)\n",
    "    im.set_data(u_tot[:,:,0])\n",
    "    plt.close()\n",
    "    return \n",
    "\n",
    "def animate(i):\n",
    "    global fig\n",
    "    fig.suptitle('{:.1f} min'.format(i*dt/60))\n",
    "    global u_tot\n",
    "    im.set_data(u_tot[:,:,i])\n",
    "    return \n",
    "\n",
    "init()\n",
    "ani = animation.FuncAnimation(fig, animate, frames = nsteps, interval=20, blit=False) \n",
    "HTML(ani.to_jshtml())\n"
   ]
  },
  {
   "cell_type": "markdown",
   "metadata": {},
   "source": [
    "## 4. Results "
   ]
  },
  {
   "cell_type": "code",
   "execution_count": null,
   "metadata": {},
   "outputs": [],
   "source": [
    "# You will get your result when executing this cell. The result is the mean squared error, so the squarred error between the model's \n",
    "# predicted values and the measured values\n",
    "\n",
    "#please fill out the google form with your alpha value and the obtained result \n",
    "\n",
    "# MSE:\n",
    "mse = (np.square(T - realT)).mean(axis=0)\n",
    "display('    ')\n",
    "display('The mean squarred error (MSE) for alpha = ' + str(alpha) + ' resulted in ' + str(np.round(mse,3)))"
   ]
  },
  {
   "cell_type": "markdown",
   "metadata": {},
   "source": [
    "## Please submit your result to the google form for comparsion with the rest of the class"
   ]
  },
  {
   "cell_type": "code",
   "execution_count": null,
   "metadata": {},
   "outputs": [],
   "source": [
    "import matplotlib.pyplot as plt\n",
    "\n",
    "plt.plot(T)\n",
    "plt.plot(realT)"
   ]
  }
 ],
 "metadata": {
  "kernelspec": {
   "display_name": "Python 3",
   "language": "python",
   "name": "python3"
  },
  "language_info": {
   "codemirror_mode": {
    "name": "ipython",
    "version": 3
   },
   "file_extension": ".py",
   "mimetype": "text/x-python",
   "name": "python",
   "nbconvert_exporter": "python",
   "pygments_lexer": "ipython3",
   "version": "3.8.3"
  }
 },
 "nbformat": 4,
 "nbformat_minor": 4
}
