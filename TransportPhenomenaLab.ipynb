{
 "cells": [
  {
   "cell_type": "markdown",
   "metadata": {},
   "source": [
    "## This notebook is designed for the lecture on transport phenomena (29.10.2020)\n",
    "\n",
    "__As you will see, this notebook consists of four parts:__\n",
    "- Real data for comparison\n",
    "- A finite-differences implementation to solve the PDE\n",
    "- A cell to define the parameter alpha\n",
    "- A comparison between real values and calculated ones\n",
    "\n",
    "__First, choose an alpha for section 2. Then, run all cells 1 to 4 to get a result. If you want to change the parameter alpha afterwards, rerun cell 2-4 after changing alpha__\n",
    "\n",
    "You can run the cells either by clicking on the cell and then on Run or press ctrl+enter\n"
   ]
  },
  {
   "cell_type": "markdown",
   "metadata": {},
   "source": [
    "## 0. Install packages"
   ]
  },
  {
   "cell_type": "code",
   "execution_count": null,
   "metadata": {
    "scrolled": true
   },
   "outputs": [],
   "source": [
    "!pip install numpy\n",
    "!pip install matplotlib"
   ]
  },
  {
   "cell_type": "markdown",
   "metadata": {},
   "source": [
    "## 1. Real Data"
   ]
  },
  {
   "cell_type": "code",
   "execution_count": null,
   "metadata": {},
   "outputs": [],
   "source": [
    "# Get Measured Data\n",
    "# In this cell, the data points from the experiment are stored\n",
    "# Please don't change anything and run this cell once\n",
    "import numpy as np"
   ]
  },
  {
   "cell_type": "markdown",
   "metadata": {},
   "source": [
    "## 2. Paramter "
   ]
  },
  {
   "cell_type": "code",
   "execution_count": null,
   "metadata": {},
   "outputs": [],
   "source": [
    "# Parameter definition\n",
    "\n",
    "# Define a value for alpha here :\n",
    "\n",
    "###################################################################################################################\n",
    "\n",
    "alpha = 10*10**-6  # [m²/s]\n",
    "\n",
    "###################################################################################################################\n"
   ]
  },
  {
   "cell_type": "markdown",
   "metadata": {},
   "source": [
    "## 3. Finite Differences Implementation "
   ]
  },
  {
   "cell_type": "markdown",
   "metadata": {},
   "source": [
    "### Differential Heat Equation \n",
    "\n",
    "$\\Large \\frac{\\partial{u(x,y,t)}}{\\partial{t}} = \\alpha\\ \\{ \\frac{\\partial^2{u(x,y,t)}}{\\partial^2{x}} + \\frac{\\partial^2{u(x,y,t)}}{\\partial^2{y}} \\}$\n",
    "\n",
    "To incoporate for the outter conditions, constraints need to be defined, both in time and space:\n",
    "\n",
    "- $ u(x=0,y,t) = T_{hot} $ : Assumption here is that the left part of the ruler is isothermally at temperature $T_{hot}$\n",
    "\n",
    "\n",
    "- $ u(x\\neq 0,y,t=0) = T_{cold} $ : At time $t_0$, the rest of the ruler is cold\n",
    "\n",
    "### Finite Difference Discretization of Temperature equation\n",
    "For a specific place, given by $x_n$, $y_n$ and time $t_n$, the temperature $u_{x_n,y_n}^{n+1}$ at the next time step $t_{n+1}$ can be approximated by:\n",
    "\n",
    "$\\Large u_{x_n,y_n}^{n+1} = u_{x_n,y_n}^n + \\alpha \\Delta t ((u_{x_n,y_{n+1}}^n - 2 u_{x_n,y_{n}}^n + u_{x_n,y_{n-1}}^n) + (u_{x_{n+1},y_{n}}^n - 2 u_{x_n,y_{n}}^n + u_{x_{n-1},y_{n}}^n )) $\n",
    "\n",
    "$x_{n+1},y_{n+1}$ and $x_{n-1},y_{n-1}$ are hereby the next and the former neighbour, respectively. \n"
   ]
  },
  {
   "cell_type": "code",
   "execution_count": null,
   "metadata": {},
   "outputs": [],
   "source": [
    "# helper functions for animation\n",
    "def init():\n",
    "    # initalizes figure and sets desgin of image\n",
    "    global fig, ax, im\n",
    "    fig = plt.figure(1)\n",
    "    # image with cmap and color bar\n",
    "    im = plt.imshow(u_tot[:,:,0],cmap=plt.get_cmap('hot'), vmin=T_cool,vmax=T_hot,extent=[0,w,h,0])\n",
    "    plt.xlabel('[cm]')\n",
    "    plt.ylabel('[cm]')\n",
    "    cbar_ax = fig.add_axes([0.9, 0.15, 0.03, 0.7]) \n",
    "    cbar_ax.set_xlabel('$T$ / K', labelpad=20)\n",
    "    fig.colorbar(im, cax=cbar_ax)\n",
    "    #initalize image with temperature at time 0\n",
    "    im.set_data(u_tot[:,:,0])\n",
    "    plt.close()\n",
    "    return \n",
    "\n",
    "def animate(i):\n",
    "    # changes image of temperture to time: i*dt \n",
    "    global fig, u_tot\n",
    "    fig.suptitle('{:.1f} min'.format(simulation_time/nframes*i))  #set title above image to current time\n",
    "    im.set_data(u_tot[:,:,i]) #change temperature to i-th temperature\n",
    "    return im,"
   ]
  },
  {
   "cell_type": "code",
   "execution_count": null,
   "metadata": {},
   "outputs": [],
   "source": [
    "# calculate each temperature(x,y,t) with central difference in space and Euler forward in time\n",
    "# calculate each temperature(x,y,t) with central difference in space and Euler forward in time\n",
    "def do_timestep(u):\n",
    "    for i in range(dnframes):\n",
    "        u[1:-1, 1:-1] = u[1:-1, 1:-1] + alpha * dt * (\n",
    "              (u[2:, 1:-1] - 2*u[1:-1, 1:-1] + u[:-2, 1:-1])/dx2\n",
    "              + (u[1:-1, 2:] - 2*u[1:-1, 1:-1] + u[1:-1, :-2])/dy2 )\n",
    "        u[0,:] = u[1,:]    # set boundaries to same as neighbour\n",
    "        u[-1,:] = u[-2,:]  # set boundaries to same as neighbour\n",
    "        u[:,0] = u[:,1]    # set boundaries to same as neighbour\n",
    "        u[:,-1] = u[:,-2]  # set boundaries to same as neighbour\n",
    "        u = get_constraints(u.copy())\n",
    "    return u\n",
    "\n",
    "def get_constraints(u):\n",
    "    u[:,0:2] = T_hot\n",
    "    u[:,-2:] = T_cool\n",
    "    return u\n",
    "\n",
    "            \n",
    "    "
   ]
  },
  {
   "cell_type": "code",
   "execution_count": null,
   "metadata": {},
   "outputs": [],
   "source": [
    "w = 10       # width [mm]\n",
    "h = 10       # height [mm]\n",
    "dx = 0.1      # finite step in x direction [mm]\n",
    "dy = 0.1     #finite step in y direction [mm]\n",
    "# temperatures\n",
    "T_cool = 300   # inital temperature[K]\n",
    "T_hot = 700   # hot temperature [K]\n",
    "#time\n",
    "simulation_time = 100 #[min] \n",
    "\n",
    "#number of nodes\n",
    "nx = int(w/dx) #number of nodes in x direction \n",
    "ny = int(h/dy) #number of nodes in y direction\n",
    "\n",
    "dx2, dy2 = dx*dx, dy*dy  #[mm²]\n",
    "dt = dx2 * dy2 / (2 * alpha * (dx2 + dy2)) #[ms]\n",
    "\n",
    "# Number of timesteps\n",
    "nsteps = int(simulation_time*60/dt*1000)\n",
    "\n",
    "# Number of frames \n",
    "nframes = 40 #to keep computation feasable, only 40 frames are used, regardeless simulation time\n",
    "dnframes = int(nsteps/nframes) #number of timesteps in a single frame\n"
   ]
  },
  {
   "cell_type": "code",
   "execution_count": null,
   "metadata": {},
   "outputs": [],
   "source": [
    "import numpy as np\n",
    "import matplotlib.pyplot as plt\n",
    "import matplotlib.animation as animation\n",
    "from IPython.display import HTML\n",
    "\n",
    "# initialization temperature field at time 0\n",
    "u0 = T_cool * np.ones((nx, ny)) # initialize field of nx*ny, all cool\n",
    "u0 = get_constraints(u0) #introduce constraints \n",
    "\n",
    "# initalization temperature field over time\n",
    "u_tot = np.ones([nx,ny,nframes+1]) # initalize all to one\n",
    "u_tot[:,:,0] = u0 #at timestep zero, equal to initalized heat field \n",
    "\n",
    "for i in range(nframes):\n",
    "    global u\n",
    "    u = u_tot[:,:,i] # current temperature field \n",
    "    u_tot[:,:,i+1]=do_timestep(u.copy())\n",
    "    \n"
   ]
  },
  {
   "cell_type": "code",
   "execution_count": null,
   "metadata": {},
   "outputs": [],
   "source": [
    "plt.ion()\n",
    "init()\n",
    "ani = animation.FuncAnimation(fig, animate, frames = nframes) \n",
    "HTML(ani.to_jshtml())"
   ]
  },
  {
   "cell_type": "markdown",
   "metadata": {},
   "source": [
    "## 4. Results "
   ]
  },
  {
   "cell_type": "code",
   "execution_count": null,
   "metadata": {},
   "outputs": [],
   "source": [
    "# You will get your result when executing this cell. The result is the mean squared error, so the squarred error between the model's \n",
    "# predicted values and the measured values\n",
    "\n",
    "#please fill out the google form with your alpha value and the obtained result \n",
    "\n",
    "# MSE:\n",
    "#mse = (np.square(T - realT)).mean(axis=0)\n",
    "#display('    ')\n",
    "#display('The mean squarred error (MSE) for alpha = ' + str(alpha) + ' resulted in ' + str(np.round(mse,3)))"
   ]
  },
  {
   "cell_type": "markdown",
   "metadata": {},
   "source": [
    "## Please submit your result to the google form for comparsion with the rest of the class"
   ]
  },
  {
   "cell_type": "code",
   "execution_count": null,
   "metadata": {},
   "outputs": [],
   "source": [
    "import matplotlib.pyplot as plt\n",
    "\n",
    "plt.plot(T)\n",
    "plt.plot(realT)"
   ]
  }
 ],
 "metadata": {
  "kernelspec": {
   "display_name": "Python 3",
   "language": "python",
   "name": "python3"
  },
  "language_info": {
   "codemirror_mode": {
    "name": "ipython",
    "version": 3
   },
   "file_extension": ".py",
   "mimetype": "text/x-python",
   "name": "python",
   "nbconvert_exporter": "python",
   "pygments_lexer": "ipython3",
   "version": "3.8.3"
  }
 },
 "nbformat": 4,
 "nbformat_minor": 4
}
